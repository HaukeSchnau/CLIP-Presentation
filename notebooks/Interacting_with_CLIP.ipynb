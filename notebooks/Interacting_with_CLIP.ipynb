{
  "nbformat": 4,
  "nbformat_minor": 0,
  "metadata": {
    "colab": {
      "name": "Interacting with CLIP.ipynb",
      "provenance": [],
      "include_colab_link": true
    },
    "kernelspec": {
      "name": "python3",
      "display_name": "Python 3"
    },
    "accelerator": "GPU"
  },
  "cells": [
    {
      "cell_type": "markdown",
      "metadata": {
        "id": "view-in-github",
        "colab_type": "text"
      },
      "source": [
        "<a href=\"https://colab.research.google.com/github/HaukeSchnau/CLIP-Presentation/blob/main/notebooks/Interacting_with_CLIP.ipynb\" target=\"_parent\"><img src=\"https://colab.research.google.com/assets/colab-badge.svg\" alt=\"Open In Colab\"/></a>"
      ]
    },
    {
      "cell_type": "markdown",
      "metadata": {
        "id": "YPHN7PJgKOzb"
      },
      "source": [
        "# Interacting with CLIP\n",
        "\n",
        "This is a self-contained notebook that shows how to download and run CLIP models, calculate the similarity between arbitrary image and text inputs, and perform zero-shot image classifications."
      ]
    },
    {
      "cell_type": "markdown",
      "metadata": {
        "id": "53N4k0pj_9qL"
      },
      "source": [
        "# Preparation for Colab\n",
        "\n",
        "Make sure you're running a GPU runtime; if not, select \"GPU\" as the hardware accelerator in Runtime > Change Runtime Type in the menu. The next cells will install the `clip` package and its dependencies, and check if PyTorch 1.7.1 or later is installed."
      ]
    },
    {
      "cell_type": "code",
      "metadata": {
        "colab": {
          "base_uri": "https://localhost:8080/"
        },
        "id": "0BpdJkdBssk9",
        "outputId": "291e9063-18db-43cf-9851-4ea45436806e"
      },
      "source": [
        "! pip install ftfy regex tqdm\n",
        "! pip install git+https://github.com/openai/CLIP.git"
      ],
      "execution_count": 2,
      "outputs": [
        {
          "output_type": "stream",
          "name": "stdout",
          "text": [
            "Collecting ftfy\n",
            "  Downloading ftfy-6.3.1-py3-none-any.whl.metadata (7.3 kB)\n",
            "Requirement already satisfied: regex in /usr/local/lib/python3.10/dist-packages (2024.9.11)\n",
            "Requirement already satisfied: tqdm in /usr/local/lib/python3.10/dist-packages (4.66.6)\n",
            "Requirement already satisfied: wcwidth in /usr/local/lib/python3.10/dist-packages (from ftfy) (0.2.13)\n",
            "Downloading ftfy-6.3.1-py3-none-any.whl (44 kB)\n",
            "\u001b[2K   \u001b[90m━━━━━━━━━━━━━━━━━━━━━━━━━━━━━━━━━━━━━━━━\u001b[0m \u001b[32m44.8/44.8 kB\u001b[0m \u001b[31m2.2 MB/s\u001b[0m eta \u001b[36m0:00:00\u001b[0m\n",
            "\u001b[?25hInstalling collected packages: ftfy\n",
            "Successfully installed ftfy-6.3.1\n",
            "Collecting git+https://github.com/openai/CLIP.git\n",
            "  Cloning https://github.com/openai/CLIP.git to /tmp/pip-req-build-n1dnghpr\n",
            "  Running command git clone --filter=blob:none --quiet https://github.com/openai/CLIP.git /tmp/pip-req-build-n1dnghpr\n",
            "  Resolved https://github.com/openai/CLIP.git to commit dcba3cb2e2827b402d2701e7e1c7d9fed8a20ef1\n",
            "  Preparing metadata (setup.py) ... \u001b[?25l\u001b[?25hdone\n",
            "Requirement already satisfied: ftfy in /usr/local/lib/python3.10/dist-packages (from clip==1.0) (6.3.1)\n",
            "Requirement already satisfied: packaging in /usr/local/lib/python3.10/dist-packages (from clip==1.0) (24.2)\n",
            "Requirement already satisfied: regex in /usr/local/lib/python3.10/dist-packages (from clip==1.0) (2024.9.11)\n",
            "Requirement already satisfied: tqdm in /usr/local/lib/python3.10/dist-packages (from clip==1.0) (4.66.6)\n",
            "Requirement already satisfied: torch in /usr/local/lib/python3.10/dist-packages (from clip==1.0) (2.5.1+cu121)\n",
            "Requirement already satisfied: torchvision in /usr/local/lib/python3.10/dist-packages (from clip==1.0) (0.20.1+cu121)\n",
            "Requirement already satisfied: wcwidth in /usr/local/lib/python3.10/dist-packages (from ftfy->clip==1.0) (0.2.13)\n",
            "Requirement already satisfied: filelock in /usr/local/lib/python3.10/dist-packages (from torch->clip==1.0) (3.16.1)\n",
            "Requirement already satisfied: typing-extensions>=4.8.0 in /usr/local/lib/python3.10/dist-packages (from torch->clip==1.0) (4.12.2)\n",
            "Requirement already satisfied: networkx in /usr/local/lib/python3.10/dist-packages (from torch->clip==1.0) (3.4.2)\n",
            "Requirement already satisfied: jinja2 in /usr/local/lib/python3.10/dist-packages (from torch->clip==1.0) (3.1.4)\n",
            "Requirement already satisfied: fsspec in /usr/local/lib/python3.10/dist-packages (from torch->clip==1.0) (2024.10.0)\n",
            "Requirement already satisfied: sympy==1.13.1 in /usr/local/lib/python3.10/dist-packages (from torch->clip==1.0) (1.13.1)\n",
            "Requirement already satisfied: mpmath<1.4,>=1.1.0 in /usr/local/lib/python3.10/dist-packages (from sympy==1.13.1->torch->clip==1.0) (1.3.0)\n",
            "Requirement already satisfied: numpy in /usr/local/lib/python3.10/dist-packages (from torchvision->clip==1.0) (1.26.4)\n",
            "Requirement already satisfied: pillow!=8.3.*,>=5.3.0 in /usr/local/lib/python3.10/dist-packages (from torchvision->clip==1.0) (11.0.0)\n",
            "Requirement already satisfied: MarkupSafe>=2.0 in /usr/local/lib/python3.10/dist-packages (from jinja2->torch->clip==1.0) (3.0.2)\n",
            "Building wheels for collected packages: clip\n",
            "  Building wheel for clip (setup.py) ... \u001b[?25l\u001b[?25hdone\n",
            "  Created wheel for clip: filename=clip-1.0-py3-none-any.whl size=1369489 sha256=e7d2dfb72ff5518aed7eab41e4fbde84fbf9d51e7b709a84c36731fe1e427209\n",
            "  Stored in directory: /tmp/pip-ephem-wheel-cache-t_f9qwcg/wheels/da/2b/4c/d6691fa9597aac8bb85d2ac13b112deb897d5b50f5ad9a37e4\n",
            "Successfully built clip\n",
            "Installing collected packages: clip\n",
            "Successfully installed clip-1.0\n"
          ]
        }
      ]
    },
    {
      "cell_type": "code",
      "metadata": {
        "id": "C1hkDT38hSaP",
        "colab": {
          "base_uri": "https://localhost:8080/"
        },
        "outputId": "e6c0640b-c1d2-43de-9ba7-333c5994c970"
      },
      "source": [
        "import numpy as np\n",
        "import torch\n",
        "from pkg_resources import packaging\n",
        "\n",
        "print(\"Torch version:\", torch.__version__)\n"
      ],
      "execution_count": 3,
      "outputs": [
        {
          "output_type": "stream",
          "name": "stderr",
          "text": [
            "<ipython-input-3-cc4b7f78b657>:3: DeprecationWarning: pkg_resources is deprecated as an API. See https://setuptools.pypa.io/en/latest/pkg_resources.html\n",
            "  from pkg_resources import packaging\n"
          ]
        },
        {
          "output_type": "stream",
          "name": "stdout",
          "text": [
            "Torch version: 2.5.1+cu121\n"
          ]
        }
      ]
    },
    {
      "cell_type": "markdown",
      "metadata": {
        "id": "eFxgLV5HAEEw"
      },
      "source": [
        "# Loading the model\n",
        "\n",
        "`clip.available_models()` will list the names of available CLIP models."
      ]
    },
    {
      "cell_type": "code",
      "metadata": {
        "id": "uLFS29hnhlY4",
        "colab": {
          "base_uri": "https://localhost:8080/"
        },
        "outputId": "8c526082-51c8-4877-9a9e-529e9f87b0bc"
      },
      "source": [
        "import clip\n",
        "\n",
        "clip.available_models()"
      ],
      "execution_count": 4,
      "outputs": [
        {
          "output_type": "execute_result",
          "data": {
            "text/plain": [
              "['RN50',\n",
              " 'RN101',\n",
              " 'RN50x4',\n",
              " 'RN50x16',\n",
              " 'RN50x64',\n",
              " 'ViT-B/32',\n",
              " 'ViT-B/16',\n",
              " 'ViT-L/14',\n",
              " 'ViT-L/14@336px']"
            ]
          },
          "metadata": {},
          "execution_count": 4
        }
      ]
    },
    {
      "cell_type": "code",
      "metadata": {
        "colab": {
          "base_uri": "https://localhost:8080/"
        },
        "id": "IBRVTY9lbGm8",
        "outputId": "9a61d0af-2de9-4971-ecc0-0424db24195e"
      },
      "source": [
        "model, preprocess = clip.load(\"ViT-B/32\")\n",
        "model.cuda().eval()\n",
        "input_resolution = model.visual.input_resolution\n",
        "context_length = model.context_length\n",
        "vocab_size = model.vocab_size\n",
        "\n",
        "print(\"Model parameters:\", f\"{np.sum([int(np.prod(p.shape)) for p in model.parameters()]):,}\")\n",
        "print(\"Input resolution:\", input_resolution)\n",
        "print(\"Context length:\", context_length)\n",
        "print(\"Vocab size:\", vocab_size)"
      ],
      "execution_count": 5,
      "outputs": [
        {
          "output_type": "stream",
          "name": "stderr",
          "text": [
            "100%|███████████████████████████████████████| 338M/338M [00:04<00:00, 73.7MiB/s]\n"
          ]
        },
        {
          "output_type": "stream",
          "name": "stdout",
          "text": [
            "Model parameters: 151,277,313\n",
            "Input resolution: 224\n",
            "Context length: 77\n",
            "Vocab size: 49408\n"
          ]
        }
      ]
    },
    {
      "cell_type": "markdown",
      "metadata": {
        "id": "21slhZGCqANb"
      },
      "source": [
        "# Image Preprocessing\n",
        "\n",
        "We resize the input images and center-crop them to conform with the image resolution that the model expects. Before doing so, we will normalize the pixel intensity using the dataset mean and standard deviation.\n",
        "\n",
        "The second return value from `clip.load()` contains a torchvision `Transform` that performs this preprocessing.\n",
        "\n"
      ]
    },
    {
      "cell_type": "code",
      "metadata": {
        "id": "d6cpiIFHp9N6",
        "colab": {
          "base_uri": "https://localhost:8080/"
        },
        "outputId": "de32c27e-9518-4a00-9447-23607c3c9bd5"
      },
      "source": [
        "preprocess"
      ],
      "execution_count": 6,
      "outputs": [
        {
          "output_type": "execute_result",
          "data": {
            "text/plain": [
              "Compose(\n",
              "    Resize(size=224, interpolation=bicubic, max_size=None, antialias=True)\n",
              "    CenterCrop(size=(224, 224))\n",
              "    <function _convert_image_to_rgb at 0x790eec93e4d0>\n",
              "    ToTensor()\n",
              "    Normalize(mean=(0.48145466, 0.4578275, 0.40821073), std=(0.26862954, 0.26130258, 0.27577711))\n",
              ")"
            ]
          },
          "metadata": {},
          "execution_count": 6
        }
      ]
    },
    {
      "cell_type": "markdown",
      "metadata": {
        "id": "xwSB5jZki3Cj"
      },
      "source": [
        "# Text Preprocessing\n",
        "\n",
        "We use a case-insensitive tokenizer, which can be invoked using `clip.tokenize()`. By default, the outputs are padded to become 77 tokens long, which is what the CLIP models expects."
      ]
    },
    {
      "cell_type": "code",
      "metadata": {
        "colab": {
          "base_uri": "https://localhost:8080/"
        },
        "id": "qGom156-i2kL",
        "outputId": "caecbf49-3cf2-4ff0-b952-785873f1bdf6"
      },
      "source": [
        "clip.tokenize(\"Hello World!\")"
      ],
      "execution_count": 7,
      "outputs": [
        {
          "output_type": "execute_result",
          "data": {
            "text/plain": [
              "tensor([[49406,  3306,  1002,   256, 49407,     0,     0,     0,     0,     0,\n",
              "             0,     0,     0,     0,     0,     0,     0,     0,     0,     0,\n",
              "             0,     0,     0,     0,     0,     0,     0,     0,     0,     0,\n",
              "             0,     0,     0,     0,     0,     0,     0,     0,     0,     0,\n",
              "             0,     0,     0,     0,     0,     0,     0,     0,     0,     0,\n",
              "             0,     0,     0,     0,     0,     0,     0,     0,     0,     0,\n",
              "             0,     0,     0,     0,     0,     0,     0,     0,     0,     0,\n",
              "             0,     0,     0,     0,     0,     0,     0]], dtype=torch.int32)"
            ]
          },
          "metadata": {},
          "execution_count": 7
        }
      ]
    },
    {
      "cell_type": "markdown",
      "metadata": {
        "id": "4W8ARJVqBJXs"
      },
      "source": [
        "# Setting up input images and texts\n",
        "\n",
        "We are going to feed 8 example images and their textual descriptions to the model, and compare the similarity between the corresponding features.\n",
        "\n",
        "The tokenizer is case-insensitive, and we can freely give any suitable textual descriptions."
      ]
    },
    {
      "cell_type": "code",
      "metadata": {
        "id": "tMc1AXzBlhzm",
        "outputId": "0a0a08f8-31b1-4ace-be0d-fd5f40a7ee59",
        "colab": {
          "base_uri": "https://localhost:8080/"
        }
      },
      "source": [
        "import os\n",
        "import skimage\n",
        "import IPython.display\n",
        "import matplotlib.pyplot as plt\n",
        "from PIL import Image\n",
        "import numpy as np\n",
        "\n",
        "from collections import OrderedDict\n",
        "import torch\n",
        "\n",
        "%matplotlib inline\n",
        "%config InlineBackend.figure_format = 'retina'\n",
        "\n",
        "skimage.data.download_all() # Download the skimage sample data\n",
        "\n",
        "# images in skimage to use and their textual descriptions\n",
        "descriptions = {\n",
        "    \"page\": \"a page of text about segmentation\",\n",
        "    \"chelsea\": \"a facial photo of a tabby cat\",\n",
        "    \"astronaut\": \"a portrait of an astronaut with the American flag\",\n",
        "    \"rocket\": \"a rocket standing on a launchpad\",\n",
        "    \"motorcycle_right\": \"a red motorcycle standing in a garage\",\n",
        "    \"camera\": \"a person looking at a camera on a tripod\",\n",
        "    \"horse\": \"a black-and-white silhouette of a horse\",\n",
        "    \"coffee\": \"a cup of coffee on a saucer\"\n",
        "}"
      ],
      "execution_count": null,
      "outputs": [
        {
          "output_type": "stream",
          "name": "stderr",
          "text": [
            "Downloading file 'color/tests/data/lab_array_a_10.npy' from 'https://github.com/scikit-image/scikit-image/raw/v0.24.0/skimage/color/tests/data/lab_array_a_10.npy' to '/root/.cache/scikit-image/0.24.0'.\n",
            "Downloading file 'color/tests/data/lab_array_a_2.npy' from 'https://github.com/scikit-image/scikit-image/raw/v0.24.0/skimage/color/tests/data/lab_array_a_2.npy' to '/root/.cache/scikit-image/0.24.0'.\n",
            "Downloading file 'color/tests/data/lab_array_a_r.npy' from 'https://github.com/scikit-image/scikit-image/raw/v0.24.0/skimage/color/tests/data/lab_array_a_r.npy' to '/root/.cache/scikit-image/0.24.0'.\n",
            "Downloading file 'color/tests/data/lab_array_b_10.npy' from 'https://github.com/scikit-image/scikit-image/raw/v0.24.0/skimage/color/tests/data/lab_array_b_10.npy' to '/root/.cache/scikit-image/0.24.0'.\n",
            "Downloading file 'color/tests/data/lab_array_b_2.npy' from 'https://github.com/scikit-image/scikit-image/raw/v0.24.0/skimage/color/tests/data/lab_array_b_2.npy' to '/root/.cache/scikit-image/0.24.0'.\n",
            "Downloading file 'color/tests/data/lab_array_b_r.npy' from 'https://github.com/scikit-image/scikit-image/raw/v0.24.0/skimage/color/tests/data/lab_array_b_r.npy' to '/root/.cache/scikit-image/0.24.0'.\n",
            "Downloading file 'color/tests/data/lab_array_c_10.npy' from 'https://github.com/scikit-image/scikit-image/raw/v0.24.0/skimage/color/tests/data/lab_array_c_10.npy' to '/root/.cache/scikit-image/0.24.0'.\n",
            "Downloading file 'color/tests/data/lab_array_c_2.npy' from 'https://github.com/scikit-image/scikit-image/raw/v0.24.0/skimage/color/tests/data/lab_array_c_2.npy' to '/root/.cache/scikit-image/0.24.0'.\n",
            "Downloading file 'color/tests/data/lab_array_c_r.npy' from 'https://github.com/scikit-image/scikit-image/raw/v0.24.0/skimage/color/tests/data/lab_array_c_r.npy' to '/root/.cache/scikit-image/0.24.0'.\n",
            "Downloading file 'color/tests/data/lab_array_d50_10.npy' from 'https://github.com/scikit-image/scikit-image/raw/v0.24.0/skimage/color/tests/data/lab_array_d50_10.npy' to '/root/.cache/scikit-image/0.24.0'.\n",
            "Downloading file 'color/tests/data/lab_array_d50_2.npy' from 'https://github.com/scikit-image/scikit-image/raw/v0.24.0/skimage/color/tests/data/lab_array_d50_2.npy' to '/root/.cache/scikit-image/0.24.0'.\n",
            "Downloading file 'color/tests/data/lab_array_d50_r.npy' from 'https://github.com/scikit-image/scikit-image/raw/v0.24.0/skimage/color/tests/data/lab_array_d50_r.npy' to '/root/.cache/scikit-image/0.24.0'.\n",
            "Downloading file 'color/tests/data/lab_array_d55_10.npy' from 'https://github.com/scikit-image/scikit-image/raw/v0.24.0/skimage/color/tests/data/lab_array_d55_10.npy' to '/root/.cache/scikit-image/0.24.0'.\n",
            "Downloading file 'color/tests/data/lab_array_d55_2.npy' from 'https://github.com/scikit-image/scikit-image/raw/v0.24.0/skimage/color/tests/data/lab_array_d55_2.npy' to '/root/.cache/scikit-image/0.24.0'.\n",
            "Downloading file 'color/tests/data/lab_array_d55_r.npy' from 'https://github.com/scikit-image/scikit-image/raw/v0.24.0/skimage/color/tests/data/lab_array_d55_r.npy' to '/root/.cache/scikit-image/0.24.0'.\n",
            "Downloading file 'color/tests/data/lab_array_d65_10.npy' from 'https://github.com/scikit-image/scikit-image/raw/v0.24.0/skimage/color/tests/data/lab_array_d65_10.npy' to '/root/.cache/scikit-image/0.24.0'.\n",
            "Downloading file 'color/tests/data/lab_array_d65_2.npy' from 'https://github.com/scikit-image/scikit-image/raw/v0.24.0/skimage/color/tests/data/lab_array_d65_2.npy' to '/root/.cache/scikit-image/0.24.0'.\n",
            "Downloading file 'color/tests/data/lab_array_d65_r.npy' from 'https://github.com/scikit-image/scikit-image/raw/v0.24.0/skimage/color/tests/data/lab_array_d65_r.npy' to '/root/.cache/scikit-image/0.24.0'.\n",
            "Downloading file 'color/tests/data/lab_array_d75_10.npy' from 'https://github.com/scikit-image/scikit-image/raw/v0.24.0/skimage/color/tests/data/lab_array_d75_10.npy' to '/root/.cache/scikit-image/0.24.0'.\n",
            "Downloading file 'color/tests/data/lab_array_d75_2.npy' from 'https://github.com/scikit-image/scikit-image/raw/v0.24.0/skimage/color/tests/data/lab_array_d75_2.npy' to '/root/.cache/scikit-image/0.24.0'.\n",
            "Downloading file 'color/tests/data/lab_array_e_2.npy' from 'https://github.com/scikit-image/scikit-image/raw/v0.24.0/skimage/color/tests/data/lab_array_e_2.npy' to '/root/.cache/scikit-image/0.24.0'.\n",
            "Downloading file 'color/tests/data/luv_array_a_10.npy' from 'https://github.com/scikit-image/scikit-image/raw/v0.24.0/skimage/color/tests/data/luv_array_a_10.npy' to '/root/.cache/scikit-image/0.24.0'.\n",
            "Downloading file 'color/tests/data/luv_array_a_2.npy' from 'https://github.com/scikit-image/scikit-image/raw/v0.24.0/skimage/color/tests/data/luv_array_a_2.npy' to '/root/.cache/scikit-image/0.24.0'.\n",
            "Downloading file 'color/tests/data/luv_array_a_r.npy' from 'https://github.com/scikit-image/scikit-image/raw/v0.24.0/skimage/color/tests/data/luv_array_a_r.npy' to '/root/.cache/scikit-image/0.24.0'.\n",
            "Downloading file 'color/tests/data/luv_array_b_10.npy' from 'https://github.com/scikit-image/scikit-image/raw/v0.24.0/skimage/color/tests/data/luv_array_b_10.npy' to '/root/.cache/scikit-image/0.24.0'.\n",
            "Downloading file 'color/tests/data/luv_array_b_2.npy' from 'https://github.com/scikit-image/scikit-image/raw/v0.24.0/skimage/color/tests/data/luv_array_b_2.npy' to '/root/.cache/scikit-image/0.24.0'.\n",
            "Downloading file 'color/tests/data/luv_array_b_r.npy' from 'https://github.com/scikit-image/scikit-image/raw/v0.24.0/skimage/color/tests/data/luv_array_b_r.npy' to '/root/.cache/scikit-image/0.24.0'.\n",
            "Downloading file 'color/tests/data/luv_array_c_10.npy' from 'https://github.com/scikit-image/scikit-image/raw/v0.24.0/skimage/color/tests/data/luv_array_c_10.npy' to '/root/.cache/scikit-image/0.24.0'.\n",
            "Downloading file 'color/tests/data/luv_array_c_2.npy' from 'https://github.com/scikit-image/scikit-image/raw/v0.24.0/skimage/color/tests/data/luv_array_c_2.npy' to '/root/.cache/scikit-image/0.24.0'.\n",
            "Downloading file 'color/tests/data/luv_array_c_r.npy' from 'https://github.com/scikit-image/scikit-image/raw/v0.24.0/skimage/color/tests/data/luv_array_c_r.npy' to '/root/.cache/scikit-image/0.24.0'.\n",
            "Downloading file 'color/tests/data/luv_array_d50_10.npy' from 'https://github.com/scikit-image/scikit-image/raw/v0.24.0/skimage/color/tests/data/luv_array_d50_10.npy' to '/root/.cache/scikit-image/0.24.0'.\n",
            "Downloading file 'color/tests/data/luv_array_d50_2.npy' from 'https://github.com/scikit-image/scikit-image/raw/v0.24.0/skimage/color/tests/data/luv_array_d50_2.npy' to '/root/.cache/scikit-image/0.24.0'.\n",
            "Downloading file 'color/tests/data/luv_array_d50_r.npy' from 'https://github.com/scikit-image/scikit-image/raw/v0.24.0/skimage/color/tests/data/luv_array_d50_r.npy' to '/root/.cache/scikit-image/0.24.0'.\n",
            "Downloading file 'color/tests/data/luv_array_d55_10.npy' from 'https://github.com/scikit-image/scikit-image/raw/v0.24.0/skimage/color/tests/data/luv_array_d55_10.npy' to '/root/.cache/scikit-image/0.24.0'.\n",
            "Downloading file 'color/tests/data/luv_array_d55_2.npy' from 'https://github.com/scikit-image/scikit-image/raw/v0.24.0/skimage/color/tests/data/luv_array_d55_2.npy' to '/root/.cache/scikit-image/0.24.0'.\n",
            "Downloading file 'color/tests/data/luv_array_d55_r.npy' from 'https://github.com/scikit-image/scikit-image/raw/v0.24.0/skimage/color/tests/data/luv_array_d55_r.npy' to '/root/.cache/scikit-image/0.24.0'.\n",
            "Downloading file 'color/tests/data/luv_array_d65_10.npy' from 'https://github.com/scikit-image/scikit-image/raw/v0.24.0/skimage/color/tests/data/luv_array_d65_10.npy' to '/root/.cache/scikit-image/0.24.0'.\n",
            "Downloading file 'color/tests/data/luv_array_d65_2.npy' from 'https://github.com/scikit-image/scikit-image/raw/v0.24.0/skimage/color/tests/data/luv_array_d65_2.npy' to '/root/.cache/scikit-image/0.24.0'.\n"
          ]
        }
      ]
    },
    {
      "cell_type": "code",
      "metadata": {
        "id": "NSSrLY185jSf",
        "colab": {
          "base_uri": "https://localhost:8080/",
          "height": 251
        },
        "outputId": "ab08119a-d52a-4d69-937e-f7a7326bd29c"
      },
      "source": [
        "original_images = []\n",
        "images = []\n",
        "texts = []\n",
        "plt.figure(figsize=(16, 5))\n",
        "\n",
        "for filename in [filename for filename in os.listdir(skimage.data_dir) if filename.endswith(\".png\") or filename.endswith(\".jpg\")]:\n",
        "    name = os.path.splitext(filename)[0]\n",
        "    if name not in descriptions:\n",
        "        continue\n",
        "\n",
        "    image = Image.open(os.path.join(skimage.data_dir, filename)).convert(\"RGB\")\n",
        "\n",
        "    plt.subplot(2, 4, len(images) + 1)\n",
        "    plt.imshow(image)\n",
        "    plt.title(f\"{filename}\\n{descriptions[name]}\")\n",
        "    plt.xticks([])\n",
        "    plt.yticks([])\n",
        "\n",
        "    original_images.append(image)\n",
        "    images.append(preprocess(image))\n",
        "    texts.append(descriptions[name])\n",
        "\n",
        "plt.tight_layout()\n"
      ],
      "execution_count": 9,
      "outputs": [
        {
          "output_type": "error",
          "ename": "FileNotFoundError",
          "evalue": "[Errno 2] No such file or directory: '/root/.cache/scikit-image/0.24.0/data'",
          "traceback": [
            "\u001b[0;31m---------------------------------------------------------------------------\u001b[0m",
            "\u001b[0;31mFileNotFoundError\u001b[0m                         Traceback (most recent call last)",
            "\u001b[0;32m<ipython-input-9-ab5ecdc5eb9e>\u001b[0m in \u001b[0;36m<cell line: 6>\u001b[0;34m()\u001b[0m\n\u001b[1;32m      4\u001b[0m \u001b[0mplt\u001b[0m\u001b[0;34m.\u001b[0m\u001b[0mfigure\u001b[0m\u001b[0;34m(\u001b[0m\u001b[0mfigsize\u001b[0m\u001b[0;34m=\u001b[0m\u001b[0;34m(\u001b[0m\u001b[0;36m16\u001b[0m\u001b[0;34m,\u001b[0m \u001b[0;36m5\u001b[0m\u001b[0;34m)\u001b[0m\u001b[0;34m)\u001b[0m\u001b[0;34m\u001b[0m\u001b[0;34m\u001b[0m\u001b[0m\n\u001b[1;32m      5\u001b[0m \u001b[0;34m\u001b[0m\u001b[0m\n\u001b[0;32m----> 6\u001b[0;31m \u001b[0;32mfor\u001b[0m \u001b[0mfilename\u001b[0m \u001b[0;32min\u001b[0m \u001b[0;34m[\u001b[0m\u001b[0mfilename\u001b[0m \u001b[0;32mfor\u001b[0m \u001b[0mfilename\u001b[0m \u001b[0;32min\u001b[0m \u001b[0mos\u001b[0m\u001b[0;34m.\u001b[0m\u001b[0mlistdir\u001b[0m\u001b[0;34m(\u001b[0m\u001b[0mskimage\u001b[0m\u001b[0;34m.\u001b[0m\u001b[0mdata_dir\u001b[0m\u001b[0;34m)\u001b[0m \u001b[0;32mif\u001b[0m \u001b[0mfilename\u001b[0m\u001b[0;34m.\u001b[0m\u001b[0mendswith\u001b[0m\u001b[0;34m(\u001b[0m\u001b[0;34m\".png\"\u001b[0m\u001b[0;34m)\u001b[0m \u001b[0;32mor\u001b[0m \u001b[0mfilename\u001b[0m\u001b[0;34m.\u001b[0m\u001b[0mendswith\u001b[0m\u001b[0;34m(\u001b[0m\u001b[0;34m\".jpg\"\u001b[0m\u001b[0;34m)\u001b[0m\u001b[0;34m]\u001b[0m\u001b[0;34m:\u001b[0m\u001b[0;34m\u001b[0m\u001b[0;34m\u001b[0m\u001b[0m\n\u001b[0m\u001b[1;32m      7\u001b[0m     \u001b[0mname\u001b[0m \u001b[0;34m=\u001b[0m \u001b[0mos\u001b[0m\u001b[0;34m.\u001b[0m\u001b[0mpath\u001b[0m\u001b[0;34m.\u001b[0m\u001b[0msplitext\u001b[0m\u001b[0;34m(\u001b[0m\u001b[0mfilename\u001b[0m\u001b[0;34m)\u001b[0m\u001b[0;34m[\u001b[0m\u001b[0;36m0\u001b[0m\u001b[0;34m]\u001b[0m\u001b[0;34m\u001b[0m\u001b[0;34m\u001b[0m\u001b[0m\n\u001b[1;32m      8\u001b[0m     \u001b[0;32mif\u001b[0m \u001b[0mname\u001b[0m \u001b[0;32mnot\u001b[0m \u001b[0;32min\u001b[0m \u001b[0mdescriptions\u001b[0m\u001b[0;34m:\u001b[0m\u001b[0;34m\u001b[0m\u001b[0;34m\u001b[0m\u001b[0m\n",
            "\u001b[0;31mFileNotFoundError\u001b[0m: [Errno 2] No such file or directory: '/root/.cache/scikit-image/0.24.0/data'"
          ]
        },
        {
          "output_type": "display_data",
          "data": {
            "text/plain": [
              "<Figure size 1600x500 with 0 Axes>"
            ]
          },
          "metadata": {}
        }
      ]
    },
    {
      "cell_type": "markdown",
      "metadata": {
        "id": "WEVKsji6WOIX"
      },
      "source": [
        "## Building features\n",
        "\n",
        "We normalize the images, tokenize each text input, and run the forward pass of the model to get the image and text features."
      ]
    },
    {
      "cell_type": "code",
      "metadata": {
        "id": "HBgCanxi8JKw"
      },
      "source": [
        "image_input = torch.tensor(np.stack(images)).cuda()\n",
        "text_tokens = clip.tokenize([\"This is \" + desc for desc in texts]).cuda()"
      ],
      "execution_count": null,
      "outputs": []
    },
    {
      "cell_type": "code",
      "metadata": {
        "id": "ZN9I0nIBZ_vW"
      },
      "source": [
        "with torch.no_grad():\n",
        "    image_features = model.encode_image(image_input).float()\n",
        "    text_features = model.encode_text(text_tokens).float()"
      ],
      "execution_count": null,
      "outputs": []
    },
    {
      "cell_type": "markdown",
      "metadata": {
        "id": "cuxm2Gt4Wvzt"
      },
      "source": [
        "## Calculating cosine similarity\n",
        "\n",
        "We normalize the features and calculate the dot product of each pair."
      ]
    },
    {
      "cell_type": "code",
      "metadata": {
        "id": "yKAxkQR7bf3A"
      },
      "source": [
        "image_features /= image_features.norm(dim=-1, keepdim=True)\n",
        "text_features /= text_features.norm(dim=-1, keepdim=True)\n",
        "similarity = text_features.cpu().numpy() @ image_features.cpu().numpy().T"
      ],
      "execution_count": null,
      "outputs": []
    },
    {
      "cell_type": "code",
      "metadata": {
        "id": "C5zvMxh8cU6m"
      },
      "source": [
        "count = len(descriptions)\n",
        "\n",
        "plt.figure(figsize=(20, 14))\n",
        "plt.imshow(similarity, vmin=0.1, vmax=0.3)\n",
        "# plt.colorbar()\n",
        "plt.yticks(range(count), texts, fontsize=18)\n",
        "plt.xticks([])\n",
        "for i, image in enumerate(original_images):\n",
        "    plt.imshow(image, extent=(i - 0.5, i + 0.5, -1.6, -0.6), origin=\"lower\")\n",
        "for x in range(similarity.shape[1]):\n",
        "    for y in range(similarity.shape[0]):\n",
        "        plt.text(x, y, f\"{similarity[y, x]:.2f}\", ha=\"center\", va=\"center\", size=12)\n",
        "\n",
        "for side in [\"left\", \"top\", \"right\", \"bottom\"]:\n",
        "  plt.gca().spines[side].set_visible(False)\n",
        "\n",
        "plt.xlim([-0.5, count - 0.5])\n",
        "plt.ylim([count + 0.5, -2])\n",
        "\n",
        "plt.title(\"Cosine similarity between text and image features\", size=20)"
      ],
      "execution_count": null,
      "outputs": []
    },
    {
      "cell_type": "markdown",
      "metadata": {
        "id": "alePijoXy6AH"
      },
      "source": [
        "# Zero-Shot Image Classification\n",
        "\n",
        "You can classify images using the cosine similarity (times 100) as the logits to the softmax operation."
      ]
    },
    {
      "cell_type": "code",
      "metadata": {
        "id": "Nqu4GlfPfr-p"
      },
      "source": [
        "from torchvision.datasets import CIFAR100\n",
        "\n",
        "cifar100 = CIFAR100(os.path.expanduser(\"~/.cache\"), transform=preprocess, download=True)"
      ],
      "execution_count": null,
      "outputs": []
    },
    {
      "cell_type": "code",
      "metadata": {
        "id": "C4S__zCGy2MT"
      },
      "source": [
        "text_descriptions = [f\"This is a photo of a {label}\" for label in cifar100.classes]\n",
        "text_tokens = clip.tokenize(text_descriptions).cuda()"
      ],
      "execution_count": null,
      "outputs": []
    },
    {
      "cell_type": "code",
      "metadata": {
        "id": "c4z1fm9vCpSR"
      },
      "source": [
        "with torch.no_grad():\n",
        "    text_features = model.encode_text(text_tokens).float()\n",
        "    text_features /= text_features.norm(dim=-1, keepdim=True)\n",
        "\n",
        "text_probs = (100.0 * image_features @ text_features.T).softmax(dim=-1)\n",
        "top_probs, top_labels = text_probs.cpu().topk(5, dim=-1)"
      ],
      "execution_count": null,
      "outputs": []
    },
    {
      "cell_type": "code",
      "metadata": {
        "id": "T6Ju_6IBE2Iz"
      },
      "source": [
        "plt.figure(figsize=(16, 16))\n",
        "\n",
        "for i, image in enumerate(original_images):\n",
        "    plt.subplot(4, 4, 2 * i + 1)\n",
        "    plt.imshow(image)\n",
        "    plt.axis(\"off\")\n",
        "\n",
        "    plt.subplot(4, 4, 2 * i + 2)\n",
        "    y = np.arange(top_probs.shape[-1])\n",
        "    plt.grid()\n",
        "    plt.barh(y, top_probs[i])\n",
        "    plt.gca().invert_yaxis()\n",
        "    plt.gca().set_axisbelow(True)\n",
        "    plt.yticks(y, [cifar100.classes[index] for index in top_labels[i].numpy()])\n",
        "    plt.xlabel(\"probability\")\n",
        "\n",
        "plt.subplots_adjust(wspace=0.5)\n",
        "plt.show()"
      ],
      "execution_count": null,
      "outputs": []
    }
  ]
}